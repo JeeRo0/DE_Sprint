{
 "cells":[
  {
   "cell_type":"markdown",
   "source":[
    "Практическая работа №2 Основы Python"
   ],
   "attachments":{
    
   },
   "metadata":{
    "datalore":{
     "node_id":"pY4JET8LN8AKqLN9AdUZaf",
     "type":"MD",
     "hide_input_from_viewers":false,
     "hide_output_from_viewers":false
    }
   }
  },
  {
   "cell_type":"markdown",
   "source":[
    "1. Необходимо спросить данные о вакансиях python разработчиков с сайта hh.ru, введя в поиск “python разработчик” и указав, что мы рассматриваем все регионы. Необходимо спросить:\n",
    "\n",
    "- Название вакансии\n",
    "- Требуемый опыт работы\n",
    "- Заработную плату\n",
    "- Регион"
   ],
   "attachments":{
    
   },
   "metadata":{
    "datalore":{
     "node_id":"kd2UBpjIQheEPwPb8FEDgl",
     "type":"MD",
     "hide_input_from_viewers":false,
     "hide_output_from_viewers":false
    }
   }
  },
  {
   "cell_type":"code",
   "source":[
    "import json\n",
    "{\n",
    "'data': [ \n",
    "    {\n",
    "    'title': 'Python Middle разработчик',\n",
    "    'work experience': '1–3 года',\n",
    "    'salary': '130 000 руб',\n",
    "    'region': 'Ростов-на-Дону'\n",
    "    },\n",
    "    {\n",
    "    'title': 'Junior\/Middle Python Developer (Backend)',\n",
    "    'work experience': 'не требуется',\n",
    "    'salary': '100 000 руб',\n",
    "    'region': 'Новосибирск'\n",
    "    },\n",
    "    {\n",
    "    'title': 'Junior Программист\/Разработчик Python',\n",
    "    'work experience': '1–3 года',\n",
    "    'salary': '60 000 руб',\n",
    "    'region': 'Новосибирск'\n",
    "    }\n",
    "]\n",
    "}"
   ],
   "execution_count":6,
   "outputs":[
    {
     "data":{
      "text\/plain":[
       "{'data': [{'title': 'Python Middle разработчик',\n",
       "   'work experience': '1–3 года',\n",
       "   'salary': '130 000 руб',\n",
       "   'region': 'Ростов-на-Дону'},\n",
       "  {'title': 'Junior\/Middle Python Developer (Backend)',\n",
       "   'work experience': 'не требуется',\n",
       "   'salary': '100\\u202f000 руб',\n",
       "   'region': 'Новосибирск'},\n",
       "  {'title': 'Junior Программист\/Разработчик Python',\n",
       "   'work experience': '1–3 года',\n",
       "   'salary': '60 000 руб',\n",
       "   'region': 'Новосибирск'}]}"
      ]
     },
     "metadata":{
      
     },
     "output_type":"display_data"
    }
   ],
   "metadata":{
    "datalore":{
     "node_id":"5JQCpuoHRlPITPlABTO01e",
     "type":"CODE",
     "hide_input_from_viewers":false,
     "hide_output_from_viewers":false
    }
   }
  },
  {
   "cell_type":"markdown",
   "source":[
    "2. Палиндром строки"
   ],
   "attachments":{
    
   },
   "metadata":{
    "datalore":{
     "node_id":"olu3RqkBvbGGyGndyaBmhf",
     "type":"MD",
     "hide_input_from_viewers":false,
     "hide_output_from_viewers":false
    }
   }
  },
  {
   "cell_type":"code",
   "source":[
    "stroka = str(input(''))\n",
    "s_1 = stroka.replace(' ', '')\n",
    "if s_1 == s_1[::-1]:\n",
    "    print('true')\n",
    "else: print('no')"
   ],
   "execution_count":24,
   "outputs":[
    {
     "name":"stdout",
     "text":[
      " taco cat\n",
      "true\n"
     ],
     "output_type":"stream"
    }
   ],
   "metadata":{
    "datalore":{
     "node_id":"GHnxbivpYKzG6VQCmZ59J0",
     "type":"CODE",
     "hide_input_from_viewers":false,
     "hide_output_from_viewers":false
    }
   }
  },
  {
   "cell_type":"markdown",
   "source":[
    "3. Перевод арабского числа в римское"
   ],
   "attachments":{
    
   },
   "metadata":{
    "datalore":{
     "node_id":"U4U46Bzl4ePDGAeoxOqI2Z",
     "type":"MD",
     "hide_input_from_viewers":false,
     "hide_output_from_viewers":false
    }
   }
  },
  {
   "cell_type":"code",
   "source":[
    "def func(x):\n",
    "    res = ''\n",
    "    for arabic, roman in zip((1000, 500, 100, 50, 10, 5, 1),\n",
    "                             'M  D  C  L  X  V  I'.split()):\n",
    "        res += x \/\/ arabic * roman\n",
    "        x %= arabic\n",
    "    return res\n",
    "\n",
    "print(func(100))\n",
    "print(func(5))"
   ],
   "execution_count":30,
   "outputs":[
    {
     "name":"stdout",
     "text":[
      "C\n",
      "V\n"
     ],
     "output_type":"stream"
    }
   ],
   "metadata":{
    "datalore":{
     "node_id":"ZkrZniT1mMZz7EoXRLlPig",
     "type":"CODE",
     "hide_input_from_viewers":false,
     "hide_output_from_viewers":false
    }
   }
  },
  {
   "cell_type":"markdown",
   "source":[
    "4. Валидность скобок"
   ],
   "attachments":{
    
   },
   "metadata":{
    "datalore":{
     "node_id":"gjK4TPSwcK3rIUBJ8fLClz",
     "type":"MD",
     "hide_input_from_viewers":false,
     "hide_output_from_viewers":false
    }
   }
  },
  {
   "cell_type":"code",
   "source":[
    "vvod = input('')\n",
    "bracket_stack = []\n",
    "bracket_pairs = {'}': '{', ']': '[', ')': '('}\n",
    "left_brackets = bracket_pairs.values()\n",
    "for bracket in vvod:\n",
    "    if bracket in left_brackets:\n",
    "        bracket_stack.append(bracket)\n",
    "    elif bracket in bracket_pairs:\n",
    "        if not bracket_stack or bracket_pairs[bracket] != bracket_stack.pop():\n",
    "            print('false')\n",
    "    else: print('true')\n"
   ],
   "execution_count":57,
   "outputs":[
    {
     "name":"stdout",
     "text":[
      " [{}({})]\n"
     ],
     "output_type":"stream"
    }
   ],
   "metadata":{
    "datalore":{
     "node_id":"TIpYrzKohwdOFIYVptywjM",
     "type":"CODE",
     "hide_input_from_viewers":false,
     "hide_output_from_viewers":false
    }
   }
  },
  {
   "cell_type":"markdown",
   "source":[
    "5. Умножить два бинарных числа в формате строк"
   ],
   "attachments":{
    
   },
   "metadata":{
    "datalore":{
     "node_id":"dbQ2kYDlJKPE8f8oi1x7w2",
     "type":"MD",
     "hide_input_from_viewers":false,
     "hide_output_from_viewers":false
    }
   }
  },
  {
   "cell_type":"code",
   "source":[
    "def bin_mult(a, b):\n",
    "    na, nb = len(a), len(b)\n",
    "    res = [False] * (na+nb)\n",
    "    b = [True if d == '1' else False for d in b[::-1]]\n",
    "    a = [True if d == '1' else False for d in a[::-1]]\n",
    "    \n",
    "    for i in range(nb):\n",
    "        if b[i]:\n",
    "            t = False\n",
    "            for j in range(na):\n",
    "                res[i+j], t = res[i+j]^a[j]^t, (res[i+j]+a[j]+t) > 1\n",
    "            res[i+j+1] = t \n",
    "    tmp = ['1' if d else '0' for d in res[::-1]]\n",
    "    return ''.join(tmp).lstrip('0')\n",
    "    \n",
    " \n",
    "num_1 = input('')\n",
    "num_2 = input('')\n",
    "res_ab = int(num_1,2)*int(num_2,2)\n",
    "ab_mul = bin_mult(num_1, num_2)\n",
    "print(ab_mul)"
   ],
   "execution_count":65,
   "outputs":[
    {
     "name":"stdout",
     "text":[
      " 111\n",
      " 101\n",
      "100011\n"
     ],
     "output_type":"stream"
    }
   ],
   "metadata":{
    "datalore":{
     "node_id":"o4vQaKCZyu0KCDMt7HOOUX",
     "type":"CODE",
     "hide_input_from_viewers":false,
     "hide_output_from_viewers":false
    }
   }
  }
 ],
 "metadata":{
  "kernelspec":{
   "display_name":"Python",
   "language":"python",
   "name":"python"
  },
  "datalore":{
   "version":1,
   "computation_mode":"JUPYTER",
   "package_manager":"pip",
   "base_environment":"default",
   "packages":[
    
   ]
  }
 },
 "nbformat":4,
 "nbformat_minor":4
}